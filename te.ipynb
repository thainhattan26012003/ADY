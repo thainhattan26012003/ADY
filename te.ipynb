{
 "cells": [
  {
   "cell_type": "code",
   "execution_count": 26,
   "metadata": {},
   "outputs": [
    {
     "data": {
      "text/plain": [
       "True"
      ]
     },
     "execution_count": 26,
     "metadata": {},
     "output_type": "execute_result"
    }
   ],
   "source": [
    "import open3d as o3d\n",
    "import numpy as np\n",
    "\n",
    "# Create an example point cloud\n",
    "points = np.random.rand(20, 3)  # Generates 100 random points in 3D space\n",
    "pcd = o3d.geometry.PointCloud()\n",
    "pcd.points = o3d.utility.Vector3dVector(points)\n",
    "\n",
    "# Save the point cloud as a PCD file\n",
    "o3d.io.write_point_cloud(\"example.pcd\", pcd)\n"
   ]
  },
  {
   "cell_type": "code",
   "execution_count": 27,
   "metadata": {},
   "outputs": [
    {
     "data": {
      "text/plain": [
       "True"
      ]
     },
     "execution_count": 27,
     "metadata": {},
     "output_type": "execute_result"
    }
   ],
   "source": [
    "import open3d as o3d\n",
    "import numpy as np\n",
    "\n",
    "# Generate some example data (vertices and faces)\n",
    "vertices = np.array([[0, 0, 0], [1, 0, 0], [1, 1, 0], [0, 1, 0], [0.5, 0.5, 1]])\n",
    "faces = np.array([[0, 1, 2], [0, 2, 3], [0, 1, 4], [1, 2, 4], [2, 3, 4], [3, 0, 4]])\n",
    "\n",
    "# Create a mesh from the vertices and faces\n",
    "mesh = o3d.geometry.TriangleMesh()\n",
    "mesh.vertices = o3d.utility.Vector3dVector(vertices)\n",
    "mesh.triangles = o3d.utility.Vector3iVector(faces)\n",
    "\n",
    "# Save the mesh to a .ply file\n",
    "o3d.io.write_triangle_mesh(\"example_mesh.ply\", mesh)\n"
   ]
  },
  {
   "cell_type": "code",
   "execution_count": 30,
   "metadata": {},
   "outputs": [
    {
     "name": "stdout",
     "output_type": "stream",
     "text": [
      "Load a ply point cloud, print it, and render it\n",
      "[Open3D WARNING] Read PLY failed: unable to read file: T:\\Python\\AYD\\my_point_cloud.ply\n",
      "[[ 0.00000000e+000 -9.68750000e-001  8.06166914e-320]\n",
      " [-1.80418078e+230  4.23650451e-305 -1.40604622e+227]\n",
      " [ 6.42125255e-077 -9.77995753e-001  1.19251358e-302]\n",
      " ...\n",
      " [ 0.00000000e+000  0.00000000e+000  0.00000000e+000]\n",
      " [ 0.00000000e+000  0.00000000e+000  0.00000000e+000]\n",
      " [ 0.00000000e+000  0.00000000e+000  0.00000000e+000]]\n"
     ]
    }
   ],
   "source": [
    "import open3d as o3d\n",
    "import numpy as np\n",
    "\n",
    "print(\"Load a ply point cloud, print it, and render it\")\n",
    "ply_point_cloud = o3d.data.PLYPointCloud()\n",
    "\n",
    "pcd = o3d.io.read_point_cloud(\"T:\\Python\\AYD\\my_point_cloud.ply\")\n",
    "\n",
    "print(np.asarray(pcd.points))\n",
    "o3d.visualization.draw_geometries([pcd],\n",
    "                                  zoom=0.3412,\n",
    "                                  front=[0.4257, -0.2125, -0.8795],\n",
    "                                  lookat=[2.6172, 2.0475, 1.532],\n",
    "                                  up=[-0.0694, -0.9768, 0.2024])"
   ]
  },
  {
   "cell_type": "code",
   "execution_count": null,
   "metadata": {},
   "outputs": [],
   "source": [
    "# import open3d as o3d\n",
    "# import numpy as np\n",
    "\n",
    "# # Assuming ply_point_cloud is an instance of a class with a 'path' attribute.\n",
    "# ply_point_cloud = o3d.data.PLYPointCloud()\n",
    "\n",
    "# # Get the path\n",
    "# ply_path = ply_point_cloud.path\n",
    "\n",
    "# # Load the point cloud\n",
    "# pcd = o3d.io.read_point_cloud(ply_path)\n",
    "\n",
    "# # Print the point cloud and its path\n",
    "# print(pcd)\n",
    "# print(np.asarray(pcd.points))\n",
    "# print(f'Path to the PLY file: {ply_path}')\n",
    "\n",
    "# # Save the point cloud\n",
    "# o3d.io.write_point_cloud(\"output.ply\", pcd)\n"
   ]
  },
  {
   "cell_type": "code",
   "execution_count": 2,
   "metadata": {},
   "outputs": [
    {
     "name": "stdout",
     "output_type": "stream",
     "text": [
      "PointCloud with 16415 points.\n"
     ]
    }
   ],
   "source": [
    "# import csv\n",
    "# import open3d as o3d\n",
    "# # Initialize an empty list to hold your data\n",
    "# data = []\n",
    "\n",
    "# # Assuming your CSV file is named \"your_file.csv\"\n",
    "# with open('T:\\Python\\AYD\\MAINDF.csv', newline='') as csvfile:\n",
    "#     reader = csv.reader(csvfile)\n",
    "#     for row in reader:\n",
    "#         # Assuming the CSV has three columns, change indices as needed\n",
    "#         data.append([float(row[0]), float(row[1]), float(row[2])])\n",
    "\n",
    "# # Convert the list of lists into a NumPy array if needed\n",
    "# import numpy as np\n",
    "# data_array = np.array(data)\n",
    "\n",
    "# points = np.array(data_array)\n",
    "\n",
    "# # Create a PointCloud object\n",
    "# pcd = o3d.geometry.PointCloud()\n",
    "# pcd.points = o3d.utility.Vector3dVector(points)\n",
    "\n",
    "# # Save the point cloud as a PLY file\n",
    "# o3d.io.write_point_cloud(\"my_point_cloud.ply\", pcd)\n",
    "\n",
    "# # Now you can load the PLY file\n",
    "# loaded_pcd = o3d.io.read_point_cloud(\"my_point_cloud.ply\")\n",
    "\n",
    "# # Print and visualize the loaded point cloud\n",
    "# print(loaded_pcd)\n",
    "# o3d.visualization.draw_geometries([loaded_pcd])\n",
    "\n",
    "# # Now, 'data' contains your CSV data as a list of lists, and 'data_array' is a NumPy array.\n"
   ]
  },
  {
   "cell_type": "code",
   "execution_count": 18,
   "metadata": {},
   "outputs": [
    {
     "name": "stdout",
     "output_type": "stream",
     "text": [
      "PointCloud with 16415 points.\n"
     ]
    }
   ],
   "source": [
    "import open3d as o3d\n",
    "\n",
    "loaded_pcd = o3d.io.read_point_cloud(\"updated_data.ply\")\n",
    "\n",
    "print(loaded_pcd)\n",
    "o3d.visualization.draw_geometries([loaded_pcd],zoom=0.3412,\n",
    "                                  front=[0.4257, -0.2125, -0.8795],\n",
    "                                  lookat=[2.6172, 2.0475, 1.532],\n",
    "                                  up=[-0.0694, -0.9768, 0.2024])"
   ]
  },
  {
   "cell_type": "code",
   "execution_count": 11,
   "metadata": {},
   "outputs": [
    {
     "name": "stdout",
     "output_type": "stream",
     "text": [
      "Downsample the point cloud with a voxel of 0.05\n"
     ]
    }
   ],
   "source": [
    "print(\"Downsample the point cloud with a voxel of 0.05\")\n",
    "downpcd = loaded_pcd.voxel_down_sample(voxel_size=0.05)\n",
    "o3d.visualization.draw_geometries([downpcd],\n",
    "                                  zoom=0.3412,\n",
    "                                  front=[0.4257, -0.2125, -0.8795],\n",
    "                                  lookat=[2.6172, 2.0475, 1.532],\n",
    "                                  up=[-0.0694, -0.9768, 0.2024])"
   ]
  },
  {
   "cell_type": "code",
   "execution_count": 12,
   "metadata": {},
   "outputs": [
    {
     "name": "stdout",
     "output_type": "stream",
     "text": [
      "Recompute the normal of the downsampled point cloud\n"
     ]
    }
   ],
   "source": [
    "print(\"Recompute the normal of the downsampled point cloud\")\n",
    "downpcd.estimate_normals(\n",
    "    search_param=o3d.geometry.KDTreeSearchParamHybrid(radius=0.1, max_nn=30))\n",
    "o3d.visualization.draw_geometries([downpcd],\n",
    "                                  zoom=0.3412,\n",
    "                                  front=[0.4257, -0.2125, -0.8795],\n",
    "                                  lookat=[2.6172, 2.0475, 1.532],\n",
    "                                  up=[-0.0694, -0.9768, 0.2024],\n",
    "                                  point_show_normal=True)"
   ]
  },
  {
   "cell_type": "code",
   "execution_count": 8,
   "metadata": {},
   "outputs": [
    {
     "name": "stdout",
     "output_type": "stream",
     "text": [
      "[Open3D WARNING] Read PLY failed: unable to open file: existing_data.ply\n",
      "[Open3D WARNING] Read PLY failed: unable to open file: existing_data.ply\n"
     ]
    },
    {
     "data": {
      "text/plain": [
       "True"
      ]
     },
     "execution_count": 8,
     "metadata": {},
     "output_type": "execute_result"
    }
   ],
   "source": [
    "import pandas as pd\n",
    "import open3d as o3d\n",
    "import numpy as np\n",
    "\n",
    "# Step 1: Read the CSV file\n",
    "csv_data = pd.read_csv('T:\\Python\\AYD\\MAIN_DF.csv')  # Replace 'data.csv' with your CSV file's name\n",
    "\n",
    "# Step 2: Prepare the data\n",
    "# For example, if your CSV file has x, y, z coordinates:\n",
    "x = csv_data['lat'].values\n",
    "y = csv_data[' lon'].values\n",
    "z = csv_data[' elevation'].values\n",
    "\n",
    "# Step 3: Read the existing PLY file (if it exists)\n",
    "if o3d.io.read_point_cloud('existing_data.ply'):\n",
    "    point_cloud = o3d.io.read_point_cloud('existing_data.ply')\n",
    "else:\n",
    "    # Create a new point cloud if 'existing_data.ply' doesn't exist\n",
    "    point_cloud = o3d.geometry.PointCloud()\n",
    "\n",
    "# Step 4: Add data to the PLY file\n",
    "# Assuming x, y, z are numpy arrays\n",
    "# Convert them into a single numpy array of shape (N, 3)\n",
    "xyz = np.column_stack((x, y, z))\n",
    "\n",
    "# Create an Open3D PointCloud from the numpy array\n",
    "new_points = o3d.geometry.PointCloud()\n",
    "new_points.points = o3d.utility.Vector3dVector(xyz)\n",
    "\n",
    "# Concatenate the new points with the existing points\n",
    "point_cloud.points = o3d.utility.Vector3dVector(np.vstack([point_cloud.points, new_points.points]))\n",
    "\n",
    "# Step 5: Save the updated PLY file\n",
    "o3d.io.write_point_cloud('updated_data.ply', point_cloud)\n"
   ]
  }
 ],
 "metadata": {
  "kernelspec": {
   "display_name": "Python 3",
   "language": "python",
   "name": "python3"
  },
  "language_info": {
   "codemirror_mode": {
    "name": "ipython",
    "version": 3
   },
   "file_extension": ".py",
   "mimetype": "text/x-python",
   "name": "python",
   "nbconvert_exporter": "python",
   "pygments_lexer": "ipython3",
   "version": "3.10.11"
  }
 },
 "nbformat": 4,
 "nbformat_minor": 2
}
